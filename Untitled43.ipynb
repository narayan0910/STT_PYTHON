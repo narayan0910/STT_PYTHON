{
  "nbformat": 4,
  "nbformat_minor": 0,
  "metadata": {
    "colab": {
      "provenance": [],
      "authorship_tag": "ABX9TyOcQKWFoRRF6wYkrQzRBXz5",
      "include_colab_link": true
    },
    "kernelspec": {
      "name": "python3",
      "display_name": "Python 3"
    },
    "language_info": {
      "name": "python"
    }
  },
  "cells": [
    {
      "cell_type": "markdown",
      "metadata": {
        "id": "view-in-github",
        "colab_type": "text"
      },
      "source": [
        "<a href=\"https://colab.research.google.com/github/narayan0910/STT_PYTHON/blob/main/Untitled43.ipynb\" target=\"_parent\"><img src=\"https://colab.research.google.com/assets/colab-badge.svg\" alt=\"Open In Colab\"/></a>"
      ]
    },
    {
      "cell_type": "code",
      "execution_count": null,
      "metadata": {
        "colab": {
          "base_uri": "https://localhost:8080/"
        },
        "id": "moGrns84zrtz",
        "outputId": "05bb7e37-5828-47d6-a383-a8077303c53d"
      },
      "outputs": [
        {
          "output_type": "stream",
          "name": "stdout",
          "text": [
            "Collecting assemblyai\n",
            "  Downloading assemblyai-0.17.0-py3-none-any.whl (63 kB)\n",
            "\u001b[2K     \u001b[90m━━━━━━━━━━━━━━━━━━━━━━━━━━━━━━━━━━━━━━━━\u001b[0m \u001b[32m63.3/63.3 kB\u001b[0m \u001b[31m1.6 MB/s\u001b[0m eta \u001b[36m0:00:00\u001b[0m\n",
            "\u001b[?25hCollecting httpx>=0.19.0 (from assemblyai)\n",
            "  Downloading httpx-0.25.0-py3-none-any.whl (75 kB)\n",
            "\u001b[2K     \u001b[90m━━━━━━━━━━━━━━━━━━━━━━━━━━━━━━━━━━━━━━━━\u001b[0m \u001b[32m75.7/75.7 kB\u001b[0m \u001b[31m5.7 MB/s\u001b[0m eta \u001b[36m0:00:00\u001b[0m\n",
            "\u001b[?25hRequirement already satisfied: pydantic!=1.10.7,>=1.7.0 in /usr/local/lib/python3.10/dist-packages (from assemblyai) (1.10.12)\n",
            "Requirement already satisfied: typing-extensions>=3.7 in /usr/local/lib/python3.10/dist-packages (from assemblyai) (4.5.0)\n",
            "Collecting websockets>=11.0 (from assemblyai)\n",
            "  Downloading websockets-11.0.3-cp310-cp310-manylinux_2_5_x86_64.manylinux1_x86_64.manylinux_2_17_x86_64.manylinux2014_x86_64.whl (129 kB)\n",
            "\u001b[2K     \u001b[90m━━━━━━━━━━━━━━━━━━━━━━━━━━━━━━━━━━━━━━\u001b[0m \u001b[32m129.9/129.9 kB\u001b[0m \u001b[31m12.6 MB/s\u001b[0m eta \u001b[36m0:00:00\u001b[0m\n",
            "\u001b[?25hRequirement already satisfied: certifi in /usr/local/lib/python3.10/dist-packages (from httpx>=0.19.0->assemblyai) (2023.7.22)\n",
            "Collecting httpcore<0.19.0,>=0.18.0 (from httpx>=0.19.0->assemblyai)\n",
            "  Downloading httpcore-0.18.0-py3-none-any.whl (76 kB)\n",
            "\u001b[2K     \u001b[90m━━━━━━━━━━━━━━━━━━━━━━━━━━━━━━━━━━━━━━━━\u001b[0m \u001b[32m76.0/76.0 kB\u001b[0m \u001b[31m10.8 MB/s\u001b[0m eta \u001b[36m0:00:00\u001b[0m\n",
            "\u001b[?25hRequirement already satisfied: idna in /usr/local/lib/python3.10/dist-packages (from httpx>=0.19.0->assemblyai) (3.4)\n",
            "Requirement already satisfied: sniffio in /usr/local/lib/python3.10/dist-packages (from httpx>=0.19.0->assemblyai) (1.3.0)\n",
            "Requirement already satisfied: anyio<5.0,>=3.0 in /usr/local/lib/python3.10/dist-packages (from httpcore<0.19.0,>=0.18.0->httpx>=0.19.0->assemblyai) (3.7.1)\n",
            "Collecting h11<0.15,>=0.13 (from httpcore<0.19.0,>=0.18.0->httpx>=0.19.0->assemblyai)\n",
            "  Downloading h11-0.14.0-py3-none-any.whl (58 kB)\n",
            "\u001b[2K     \u001b[90m━━━━━━━━━━━━━━━━━━━━━━━━━━━━━━━━━━━━━━━━\u001b[0m \u001b[32m58.3/58.3 kB\u001b[0m \u001b[31m7.3 MB/s\u001b[0m eta \u001b[36m0:00:00\u001b[0m\n",
            "\u001b[?25hRequirement already satisfied: exceptiongroup in /usr/local/lib/python3.10/dist-packages (from anyio<5.0,>=3.0->httpcore<0.19.0,>=0.18.0->httpx>=0.19.0->assemblyai) (1.1.3)\n",
            "Installing collected packages: websockets, h11, httpcore, httpx, assemblyai\n",
            "Successfully installed assemblyai-0.17.0 h11-0.14.0 httpcore-0.18.0 httpx-0.25.0 websockets-11.0.3\n",
            "Collecting pydub\n",
            "  Downloading pydub-0.25.1-py2.py3-none-any.whl (32 kB)\n",
            "Installing collected packages: pydub\n",
            "Successfully installed pydub-0.25.1\n"
          ]
        }
      ],
      "source": [
        "!pip install -U assemblyai\n",
        "!pip install pydub\n"
      ]
    },
    {
      "cell_type": "code",
      "source": [
        "import assemblyai as aai\n",
        "from pydub import AudioSegment\n",
        "import tempfile\n",
        "import requests"
      ],
      "metadata": {
        "id": "dovbNGBJ0WxY"
      },
      "execution_count": null,
      "outputs": []
    },
    {
      "cell_type": "code",
      "source": [
        "aai.settings.api_key = f\"3eef21b349a44c1eb02b5255cae6cefc\"\n",
        "!pip install pydub\n",
        "from pydub import AudioSegment\n",
        "import tempfile\n",
        "import requests\n",
        "# Function to convert M4A to MP3\n",
        "def convert_m4a_to_mp3(input_path, output_path):\n",
        "    audio = AudioSegment.from_file(input_path, format=\"m4a\")\n",
        "    audio.export(output_path, format=\"mp3\")"
      ],
      "metadata": {
        "colab": {
          "base_uri": "https://localhost:8080/"
        },
        "id": "L1WL-4iozxJR",
        "outputId": "156f1ed8-b7c8-460c-9bce-2863b24704d5"
      },
      "execution_count": null,
      "outputs": [
        {
          "output_type": "stream",
          "name": "stdout",
          "text": [
            "Requirement already satisfied: pydub in /usr/local/lib/python3.10/dist-packages (0.25.1)\n"
          ]
        }
      ]
    },
    {
      "cell_type": "code",
      "source": [
        "# Convert M4A to MP3\n",
        "input_m4a_file = \"/content/p56 v.m4a\"\n",
        "output_mp3_file = tempfile.NamedTemporaryFile(suffix=\".mp3\", delete=False).name\n",
        "convert_m4a_to_mp3(input_m4a_file, output_mp3_file)"
      ],
      "metadata": {
        "id": "ctu-v-jG1RKE"
      },
      "execution_count": null,
      "outputs": []
    },
    {
      "cell_type": "code",
      "source": [
        "transcriber = aai.Transcriber()\n",
        "transcript = transcriber.transcribe(output_mp3_file)\n",
        "print(transcript.text)"
      ],
      "metadata": {
        "colab": {
          "base_uri": "https://localhost:8080/"
        },
        "id": "bCAQp5Ju1-5_",
        "outputId": "e38fe8cc-d5dc-4d23-bf50-8756f05f612c"
      },
      "execution_count": null,
      "outputs": [
        {
          "output_type": "stream",
          "name": "stdout",
          "text": [
            "So auntie Jesse pata Jalata Kabua kesekari salata dr dwara gene or blooding be healthy. Horahiti kani check upset. Okay. Tononapa test rest kia papas mehra surgery blading horata Bolaki surgery kandipari uterus nikalna or mera blading kyra Chotla acha. Bleeding or is the symptom mother? Yeah, they k for AB. Doctor Gina Blading. They k fate. Uterus Nikola. Uterus nikka cancer. Acha sure, by six data, but so apu palibata jalaki cervical cancer. Kyota nai patato tamuja katam and sunata making anupo sunana? Or could Pescal now PM jiusmuto join handheld? Yeah. So Jesse, apko pura apnea screening Wagara with you those time gagarapucha experience, but as a Kobata mera. Yaha yah. Halai Artemis, guru sector in Kamal. The. Dua meratua or Jammuji? Dava surgery. Who eats a coffee? Pain or mera. Chemo moshala to my kushni kapi para kushni kai chobi center pain. Banara guys are Victor table or Dalto? But Alvida mera chalta cervical cancer. Valida. Chelsea. Abhi mera surgery who I am now isco August Go Acha no Agasto Pata Ogaki acha complete doctor Kabatana abi complete upon Sakshan hogai say, who's a checker? Niklia or David Bony routine checkup to Pura Japak my DVANA routine checkup total pet City Hotai. Pet City scan Hotah. Ultrasound Hotah. Blood cutest. Hotah, but elajujata. But Antivo. Jatari doctor or indogitra. Maybe just puri. Help. Mild camera. Dr. Chopra. Raki Chopra? Yeah. Maxwell. Dr. Moja, head of Department cancer. K dr. Rakesh Chopra Surgery Mira dr. Raja Tiwari Or Dr. Renu Rana SAGAL Gainoke um so Auntie Jesse Palace related Information Tiako Patata palace related may melbatch is nayotikoi papismar test of cervical cancer related Koika tabi doctor. Okay. So jesse cervical cancer. Kaja patachala to upki garvalu kobe torah so Tamira Bina 9th Years 10th Kata ten years. Kata tata or merabara beta joseph Dosal. But I would twelve kata muje pushni pata mujeki condition or mary betty. Betty Tapki life. Make it a change. Hiti kam karl nabhna Karl tum dawni Lakhta yeah, say radiation radiation. Radiation. Who are radiation? Kebab matlabi bone soup surgery. Karnikari s Katkai chemo chemo Kiva doctor Nika cancer. To Kikojaya MATLAB PHR mother total hip response. Joe Kulheki had the O-T-A total hip respect replacement, actually. Majo Kam Karima. Yeah. Jesse dikata nikki Koshi Kara kisiko igna start in case my chotlagi. Page nietzsche doctor Dawaniya Talikini Kahushlagana One year treatment. Salana many three months lie bleeding, I think. Infection bharagaya jobi. Who are who? Jesse who are who? Nay malu lake in over three months dava PILs albatua blading Aramboy church but I sati and logo konko Kasi Katanka sakta diagnose k time paperishani starting many patachala fitment period symptoms? BIOSY okay, symptoms? Hotel BIOS um sahira parega napariga treatment kit I'm KOIDI kata treatment treatment kit I'm to koik katai Gunko kasakam karada sakta kucha kapi naipara which be sahi baghi dr puri support Kahira doctor support kia hospital kisi or koi kyoko Yagar initially stage Me Hoya Or Tokyo Delivery kebab Delivery kebab student GGG So Agar Kisiko Delivery kebab they say bleeding coffee in the fourth after he passed janati Slandana Karan Ban Sakta Or yeah delivery kebab thrunt blood come band hogai to Kafi under Krabi honey karnata or many doctor ki Bhatko many no nikka one year lena Perega many three months g Mary ray Mary trustee anti egg vaccination Beauty cancer vaccination beauty to doctor this batch. Period relationship may nahi hair kabi nahi relationship may I have index donating late. Donating late lakhtah this date goes a month, eight month Vadus or TITRA. Johan was six months, three months. Three months. Like the six month injection. Other haywire to nikariga Per Voice Screening ikaraga Pataga yeah sakta k bhadoga relationship nikabi naya injection kam Kariga and Yapucha share gana jankuchar Batana jahan to Abhatiji yeah, someone may, but yeah, like in three years. Yeah, four years. After the husband be agar rahengi to pirate hoga section unkobi osakta g g Hoga's bladder. Bladder or krishna kasi information. That the but I think you met, so yeah. Discobi periods. I said the kati houthi hair unmarried have. To period may the kathura yeah relationship may Bhatika but when that hanai laga is a boss time pajam yeah to government yeah Ferham log yeah technology phone yeah Koibi machine. I suggest YouTube kara injection loy kushbi durho sakti. Nahi Mehma jijaki to me so shitiki hamduku jagu karna Kistar hasi shiru jijki nay or hamuna sai sachi bayehota is papaya to Jikani maliki mary but chico, period yeah school manga shurukara yeah. Jesse Malijay 10th Taknahi me inter say like a 10th Takri? Eight Taknami. 9th 10th? Yeah, ten. First year may. Inter. First year, May. I inter. Second year, May. But school may be Jakari Habitas at the 8th. Can you for 9th? 10th? twelveTH graduation sakti but yeah sakta very well college major Kirk school major 9th 10th Kibatiyoko school me but I twelveTH kibatiyoko second year Kibatiyoko college but who SATA yeah j takiya karna lena kabata janivadi okay namaste namaste bye bye.\n"
          ]
        }
      ]
    }
  ]
}